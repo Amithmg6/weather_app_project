{
 "cells": [
  {
   "cell_type": "markdown",
   "id": "4c4885bf",
   "metadata": {},
   "source": []
  },
  {
   "cell_type": "markdown",
   "id": "81ede632",
   "metadata": {},
   "source": []
  },
  {
   "cell_type": "code",
   "execution_count": null,
   "id": "0e777c03",
   "metadata": {},
   "outputs": [
    {
     "name": "stdout",
     "output_type": "stream",
     "text": [
      "Collecting git+https://github.com/m0rp43us/openmeteopy\n",
      "  Cloning https://github.com/m0rp43us/openmeteopy to c:\\users\\amith\\appdata\\local\\temp\\pip-req-build-2dgpg0dx\n",
      "  Resolved https://github.com/m0rp43us/openmeteopy to commit be76f2deabd7ff5ec3f87ebc983091a367e24117\n",
      "  Preparing metadata (setup.py): started\n",
      "  Preparing metadata (setup.py): finished with status 'done'\n",
      "Requirement already satisfied: requests>=2.22.0 in c:\\users\\amith\\anaconda3\\lib\\site-packages (from openmeteopy==0.1.0) (2.32.3)\n",
      "Requirement already satisfied: pandas>=1.0.5 in c:\\users\\amith\\anaconda3\\lib\\site-packages (from openmeteopy==0.1.0) (2.2.2)\n",
      "Requirement already satisfied: pyarrow in c:\\users\\amith\\anaconda3\\lib\\site-packages (from openmeteopy==0.1.0) (16.1.0)\n",
      "Requirement already satisfied: pytest in c:\\users\\amith\\anaconda3\\lib\\site-packages (from openmeteopy==0.1.0) (7.4.4)\n",
      "Requirement already satisfied: sphinx in c:\\users\\amith\\anaconda3\\lib\\site-packages (from openmeteopy==0.1.0) (7.3.7)\n",
      "Collecting sphinx-rtd-theme (from openmeteopy==0.1.0)\n",
      "  Downloading sphinx_rtd_theme-3.0.2-py2.py3-none-any.whl.metadata (4.4 kB)\n",
      "Requirement already satisfied: setuptools in c:\\users\\amith\\anaconda3\\lib\\site-packages (from openmeteopy==0.1.0) (75.1.0)\n",
      "Requirement already satisfied: wheel in c:\\users\\amith\\anaconda3\\lib\\site-packages (from openmeteopy==0.1.0) (0.44.0)\n",
      "Collecting twine (from openmeteopy==0.1.0)\n",
      "  Downloading twine-6.1.0-py3-none-any.whl.metadata (3.7 kB)\n",
      "Requirement already satisfied: numpy>=1.26.0 in c:\\users\\amith\\anaconda3\\lib\\site-packages (from pandas>=1.0.5->openmeteopy==0.1.0) (1.26.4)\n",
      "Requirement already satisfied: python-dateutil>=2.8.2 in c:\\users\\amith\\anaconda3\\lib\\site-packages (from pandas>=1.0.5->openmeteopy==0.1.0) (2.9.0.post0)\n",
      "Requirement already satisfied: pytz>=2020.1 in c:\\users\\amith\\anaconda3\\lib\\site-packages (from pandas>=1.0.5->openmeteopy==0.1.0) (2024.1)\n",
      "Requirement already satisfied: tzdata>=2022.7 in c:\\users\\amith\\anaconda3\\lib\\site-packages (from pandas>=1.0.5->openmeteopy==0.1.0) (2023.3)\n",
      "Requirement already satisfied: charset-normalizer<4,>=2 in c:\\users\\amith\\anaconda3\\lib\\site-packages (from requests>=2.22.0->openmeteopy==0.1.0) (3.3.2)\n",
      "Requirement already satisfied: idna<4,>=2.5 in c:\\users\\amith\\anaconda3\\lib\\site-packages (from requests>=2.22.0->openmeteopy==0.1.0) (3.7)\n",
      "Requirement already satisfied: urllib3<3,>=1.21.1 in c:\\users\\amith\\anaconda3\\lib\\site-packages (from requests>=2.22.0->openmeteopy==0.1.0) (2.2.3)\n",
      "Requirement already satisfied: certifi>=2017.4.17 in c:\\users\\amith\\anaconda3\\lib\\site-packages (from requests>=2.22.0->openmeteopy==0.1.0) (2025.4.26)\n",
      "Requirement already satisfied: iniconfig in c:\\users\\amith\\anaconda3\\lib\\site-packages (from pytest->openmeteopy==0.1.0) (1.1.1)\n",
      "Requirement already satisfied: packaging in c:\\users\\amith\\anaconda3\\lib\\site-packages (from pytest->openmeteopy==0.1.0) (24.1)\n",
      "Requirement already satisfied: pluggy<2.0,>=0.12 in c:\\users\\amith\\anaconda3\\lib\\site-packages (from pytest->openmeteopy==0.1.0) (1.0.0)\n",
      "Requirement already satisfied: colorama in c:\\users\\amith\\anaconda3\\lib\\site-packages (from pytest->openmeteopy==0.1.0) (0.4.6)\n",
      "Requirement already satisfied: sphinxcontrib-applehelp in c:\\users\\amith\\anaconda3\\lib\\site-packages (from sphinx->openmeteopy==0.1.0) (1.0.2)\n",
      "Requirement already satisfied: sphinxcontrib-devhelp in c:\\users\\amith\\anaconda3\\lib\\site-packages (from sphinx->openmeteopy==0.1.0) (1.0.2)\n",
      "Requirement already satisfied: sphinxcontrib-jsmath in c:\\users\\amith\\anaconda3\\lib\\site-packages (from sphinx->openmeteopy==0.1.0) (1.0.1)\n",
      "Requirement already satisfied: sphinxcontrib-htmlhelp>=2.0.0 in c:\\users\\amith\\anaconda3\\lib\\site-packages (from sphinx->openmeteopy==0.1.0) (2.0.0)\n",
      "Requirement already satisfied: sphinxcontrib-serializinghtml>=1.1.9 in c:\\users\\amith\\anaconda3\\lib\\site-packages (from sphinx->openmeteopy==0.1.0) (1.1.10)\n",
      "Requirement already satisfied: sphinxcontrib-qthelp in c:\\users\\amith\\anaconda3\\lib\\site-packages (from sphinx->openmeteopy==0.1.0) (1.0.3)\n",
      "Requirement already satisfied: Jinja2>=3.0 in c:\\users\\amith\\anaconda3\\lib\\site-packages (from sphinx->openmeteopy==0.1.0) (3.1.4)\n",
      "Requirement already satisfied: Pygments>=2.14 in c:\\users\\amith\\anaconda3\\lib\\site-packages (from sphinx->openmeteopy==0.1.0) (2.15.1)\n",
      "Requirement already satisfied: docutils<0.22,>=0.18.1 in c:\\users\\amith\\anaconda3\\lib\\site-packages (from sphinx->openmeteopy==0.1.0) (0.18.1)\n",
      "Requirement already satisfied: snowballstemmer>=2.0 in c:\\users\\amith\\anaconda3\\lib\\site-packages (from sphinx->openmeteopy==0.1.0) (2.2.0)\n",
      "Requirement already satisfied: babel>=2.9 in c:\\users\\amith\\anaconda3\\lib\\site-packages (from sphinx->openmeteopy==0.1.0) (2.11.0)\n",
      "Requirement already satisfied: alabaster~=0.7.14 in c:\\users\\amith\\anaconda3\\lib\\site-packages (from sphinx->openmeteopy==0.1.0) (0.7.16)\n",
      "Requirement already satisfied: imagesize>=1.3 in c:\\users\\amith\\anaconda3\\lib\\site-packages (from sphinx->openmeteopy==0.1.0) (1.4.1)\n",
      "Collecting sphinxcontrib-jquery<5,>=4 (from sphinx-rtd-theme->openmeteopy==0.1.0)\n",
      "  Downloading sphinxcontrib_jquery-4.1-py2.py3-none-any.whl.metadata (2.6 kB)\n",
      "Collecting readme-renderer>=35.0 (from twine->openmeteopy==0.1.0)\n",
      "  Downloading readme_renderer-44.0-py3-none-any.whl.metadata (2.8 kB)\n",
      "Requirement already satisfied: requests-toolbelt!=0.9.0,>=0.8.0 in c:\\users\\amith\\anaconda3\\lib\\site-packages (from twine->openmeteopy==0.1.0) (1.0.0)\n",
      "Requirement already satisfied: keyring>=15.1 in c:\\users\\amith\\anaconda3\\lib\\site-packages (from twine->openmeteopy==0.1.0) (24.3.1)\n",
      "Collecting rfc3986>=1.4.0 (from twine->openmeteopy==0.1.0)\n",
      "  Downloading rfc3986-2.0.0-py2.py3-none-any.whl.metadata (6.6 kB)\n",
      "Requirement already satisfied: rich>=12.0.0 in c:\\users\\amith\\anaconda3\\lib\\site-packages (from twine->openmeteopy==0.1.0) (13.7.1)\n",
      "Collecting id (from twine->openmeteopy==0.1.0)\n",
      "  Downloading id-1.5.0-py3-none-any.whl.metadata (5.2 kB)\n",
      "Requirement already satisfied: MarkupSafe>=2.0 in c:\\users\\amith\\anaconda3\\lib\\site-packages (from Jinja2>=3.0->sphinx->openmeteopy==0.1.0) (2.1.3)\n",
      "Requirement already satisfied: jaraco.classes in c:\\users\\amith\\anaconda3\\lib\\site-packages (from keyring>=15.1->twine->openmeteopy==0.1.0) (3.2.1)\n",
      "Requirement already satisfied: pywin32-ctypes>=0.2.0 in c:\\users\\amith\\anaconda3\\lib\\site-packages (from keyring>=15.1->twine->openmeteopy==0.1.0) (0.2.2)\n",
      "Requirement already satisfied: six>=1.5 in c:\\users\\amith\\anaconda3\\lib\\site-packages (from python-dateutil>=2.8.2->pandas>=1.0.5->openmeteopy==0.1.0) (1.16.0)\n",
      "Collecting nh3>=0.2.14 (from readme-renderer>=35.0->twine->openmeteopy==0.1.0)\n",
      "  Downloading nh3-0.3.0-cp38-abi3-win_amd64.whl.metadata (2.1 kB)\n",
      "Collecting docutils<0.22,>=0.18.1 (from sphinx->openmeteopy==0.1.0)\n",
      "  Downloading docutils-0.21.2-py3-none-any.whl.metadata (2.8 kB)\n",
      "Requirement already satisfied: markdown-it-py>=2.2.0 in c:\\users\\amith\\anaconda3\\lib\\site-packages (from rich>=12.0.0->twine->openmeteopy==0.1.0) (2.2.0)\n",
      "Requirement already satisfied: mdurl~=0.1 in c:\\users\\amith\\anaconda3\\lib\\site-packages (from markdown-it-py>=2.2.0->rich>=12.0.0->twine->openmeteopy==0.1.0) (0.1.0)\n",
      "Requirement already satisfied: more-itertools in c:\\users\\amith\\anaconda3\\lib\\site-packages (from jaraco.classes->keyring>=15.1->twine->openmeteopy==0.1.0) (10.3.0)\n",
      "Downloading sphinx_rtd_theme-3.0.2-py2.py3-none-any.whl (7.7 MB)\n",
      "   ---------------------------------------- 0.0/7.7 MB ? eta -:--:--\n",
      "   ---------------------------------------- 0.0/7.7 MB ? eta -:--:--\n",
      "   - -------------------------------------- 0.3/7.7 MB ? eta -:--:--\n",
      "   -- ------------------------------------- 0.5/7.7 MB 1.4 MB/s eta 0:00:06\n",
      "   ---- ----------------------------------- 0.8/7.7 MB 1.0 MB/s eta 0:00:07\n",
      "   ---- ----------------------------------- 0.8/7.7 MB 1.0 MB/s eta 0:00:07\n",
      "   ----- ---------------------------------- 1.0/7.7 MB 868.0 kB/s eta 0:00:08\n",
      "   ----- ---------------------------------- 1.0/7.7 MB 868.0 kB/s eta 0:00:08\n",
      "   ------ --------------------------------- 1.3/7.7 MB 789.6 kB/s eta 0:00:09\n",
      "   -------- ------------------------------- 1.6/7.7 MB 864.6 kB/s eta 0:00:08\n",
      "   --------- ------------------------------ 1.8/7.7 MB 906.5 kB/s eta 0:00:07\n",
      "   ------------ --------------------------- 2.4/7.7 MB 1.0 MB/s eta 0:00:06\n",
      "   ------------- -------------------------- 2.6/7.7 MB 1.1 MB/s eta 0:00:05\n",
      "   --------------- ------------------------ 2.9/7.7 MB 1.1 MB/s eta 0:00:05\n",
      "   ---------------- ----------------------- 3.1/7.7 MB 1.2 MB/s eta 0:00:04\n",
      "   ------------------- -------------------- 3.7/7.7 MB 1.2 MB/s eta 0:00:04\n",
      "   --------------------- ------------------ 4.2/7.7 MB 1.3 MB/s eta 0:00:03\n",
      "   ----------------------- ---------------- 4.5/7.7 MB 1.3 MB/s eta 0:00:03\n",
      "   ------------------------ --------------- 4.7/7.7 MB 1.3 MB/s eta 0:00:03\n",
      "   ------------------------ --------------- 4.7/7.7 MB 1.3 MB/s eta 0:00:03\n",
      "   -------------------------- ------------- 5.0/7.7 MB 1.2 MB/s eta 0:00:03\n",
      "   --------------------------- ------------ 5.2/7.7 MB 1.2 MB/s eta 0:00:02\n",
      "   --------------------------- ------------ 5.2/7.7 MB 1.2 MB/s eta 0:00:02\n",
      "   ---------------------------- ----------- 5.5/7.7 MB 1.2 MB/s eta 0:00:02\n",
      "   ------------------------------ --------- 5.8/7.7 MB 1.2 MB/s eta 0:00:02\n",
      "   ------------------------------- -------- 6.0/7.7 MB 1.2 MB/s eta 0:00:02\n",
      "   -------------------------------- ------- 6.3/7.7 MB 1.2 MB/s eta 0:00:02\n",
      "   ---------------------------------- ----- 6.6/7.7 MB 1.2 MB/s eta 0:00:01\n",
      "   -------------------------------------- - 7.3/7.7 MB 1.3 MB/s eta 0:00:01\n",
      "   ---------------------------------------- 7.7/7.7 MB 1.3 MB/s eta 0:00:00\n",
      "Downloading twine-6.1.0-py3-none-any.whl (40 kB)\n",
      "Downloading readme_renderer-44.0-py3-none-any.whl (13 kB)\n",
      "Downloading docutils-0.21.2-py3-none-any.whl (587 kB)\n",
      "   ---------------------------------------- 0.0/587.4 kB ? eta -:--:--\n",
      "   ---------------------------------------- 587.4/587.4 kB 3.0 MB/s eta 0:00:00\n",
      "Downloading rfc3986-2.0.0-py2.py3-none-any.whl (31 kB)\n",
      "Downloading sphinxcontrib_jquery-4.1-py2.py3-none-any.whl (121 kB)\n",
      "Downloading id-1.5.0-py3-none-any.whl (13 kB)\n",
      "Downloading nh3-0.3.0-cp38-abi3-win_amd64.whl (604 kB)\n",
      "   ---------------------------------------- 0.0/604.5 kB ? eta -:--:--\n",
      "   ----------------- ---------------------- 262.1/604.5 kB ? eta -:--:--\n",
      "   ---------------------------------------- 604.5/604.5 kB 2.7 MB/s eta 0:00:00\n",
      "Building wheels for collected packages: openmeteopy\n",
      "  Building wheel for openmeteopy (setup.py): started\n",
      "  Building wheel for openmeteopy (setup.py): finished with status 'done'\n",
      "  Created wheel for openmeteopy: filename=openmeteopy-0.1.0-py3-none-any.whl size=65048 sha256=56852d02cea799e5b55cb8ce609558ce0484d1cd53239622a2e4beb839f872e8\n",
      "  Stored in directory: C:\\Users\\amith\\AppData\\Local\\Temp\\pip-ephem-wheel-cache-gvmvrlsf\\wheels\\83\\d5\\e1\\5ba45f60b1278b380c594e3c4ab9af559b3f01680764b70bbb\n",
      "Successfully built openmeteopy\n",
      "Installing collected packages: rfc3986, nh3, docutils, readme-renderer, id, twine, sphinxcontrib-jquery, sphinx-rtd-theme, openmeteopy\n",
      "  Attempting uninstall: docutils\n",
      "    Found existing installation: docutils 0.18.1\n",
      "    Uninstalling docutils-0.18.1:\n",
      "      Successfully uninstalled docutils-0.18.1\n",
      "Successfully installed docutils-0.21.2 id-1.5.0 nh3-0.3.0 openmeteopy-0.1.0 readme-renderer-44.0 rfc3986-2.0.0 sphinx-rtd-theme-3.0.2 sphinxcontrib-jquery-4.1 twine-6.1.0\n"
     ]
    },
    {
     "name": "stderr",
     "output_type": "stream",
     "text": [
      "  Running command git clone --filter=blob:none --quiet https://github.com/m0rp43us/openmeteopy 'C:\\Users\\amith\\AppData\\Local\\Temp\\pip-req-build-2dgpg0dx'\n"
     ]
    }
   ],
   "source": [
    "# ! pip install git+https://github.com/m0rp43us/openmeteopy"
   ]
  },
  {
   "cell_type": "code",
   "execution_count": 2,
   "id": "3f5e07cf",
   "metadata": {},
   "outputs": [],
   "source": [
    "# Import the necessary library to make HTTP requests\n",
    "import requests\n",
    "import json"
   ]
  },
  {
   "cell_type": "code",
   "execution_count": 4,
   "id": "2735e839",
   "metadata": {},
   "outputs": [
    {
     "name": "stdout",
     "output_type": "stream",
     "text": [
      "<class 'pandas.core.frame.DataFrame'>\n",
      "Index: 120 entries, 2025-08-22T00:00 to 2025-08-26T23:00\n",
      "Data columns (total 30 columns):\n",
      " #   Column                 Non-Null Count  Dtype  \n",
      "---  ------                 --------------  -----  \n",
      " 0   pm10                   120 non-null    float64\n",
      " 1   pm2_5                  120 non-null    float64\n",
      " 2   carbon_monoxide        120 non-null    float64\n",
      " 3   nitrogen_dioxide       120 non-null    float64\n",
      " 4   sulphur_dioxide        120 non-null    float64\n",
      " 5   ozone                  120 non-null    float64\n",
      " 6   aerosol_optical_depth  120 non-null    float64\n",
      " 7   dust                   120 non-null    float64\n",
      " 8   uv_index               120 non-null    float64\n",
      " 9   uv_index_clear_sky     120 non-null    float64\n",
      " 10  ammonia                0 non-null      object \n",
      " 11  alder_pollen           0 non-null      object \n",
      " 12  birch_pollen           0 non-null      object \n",
      " 13  grass_pollen           0 non-null      object \n",
      " 14  mugwort_pollen         0 non-null      object \n",
      " 15  olive_pollen           0 non-null      object \n",
      " 16  ragweed_pollen         0 non-null      object \n",
      " 17  european_aqi           120 non-null    int64  \n",
      " 18  european_aqi_pm2_5     120 non-null    int64  \n",
      " 19  european_aqi_pm10      120 non-null    int64  \n",
      " 20  european_aqi_no2       120 non-null    int64  \n",
      " 21  european_aqi_o3        120 non-null    int64  \n",
      " 22  european_aqi_so2       120 non-null    int64  \n",
      " 23  us_aqi                 120 non-null    int64  \n",
      " 24  us_aqi_pm2_5           120 non-null    int64  \n",
      " 25  us_aqi_pm10            120 non-null    int64  \n",
      " 26  us_aqi_no2             120 non-null    int64  \n",
      " 27  us_aqi_co              120 non-null    int64  \n",
      " 28  us_aqi_o3              120 non-null    int64  \n",
      " 29  us_aqi_so2             120 non-null    int64  \n",
      "dtypes: float64(10), int64(13), object(7)\n",
      "memory usage: 29.1+ KB\n",
      "None\n"
     ]
    }
   ],
   "source": [
    "from openmeteopy import OpenMeteo\n",
    "from openmeteopy.hourly import HourlyAirQuality\n",
    "from openmeteopy.options import AirQualityOptions\n",
    "from openmeteopy.utils.constants import *\n",
    "\n",
    "# Latitude, Longitude \n",
    "longitude = 33.89\n",
    "latitude =  -6.31\n",
    "\n",
    "hourly = HourlyAirQuality()\n",
    "options = AirQualityOptions(latitude, longitude, auto)\n",
    "\n",
    "mgr = OpenMeteo(options, hourly.all())\n",
    "\n",
    "# Download data in pandas DataFrame\n",
    "meteo = mgr.get_pandas()\n",
    "\n",
    "print(meteo.info())"
   ]
  },
  {
   "cell_type": "code",
   "execution_count": 5,
   "id": "967e3d55",
   "metadata": {},
   "outputs": [
    {
     "name": "stdout",
     "output_type": "stream",
     "text": [
      "Collecting geopy\n",
      "  Downloading geopy-2.4.1-py3-none-any.whl.metadata (6.8 kB)\n",
      "Collecting geographiclib<3,>=1.52 (from geopy)\n",
      "  Downloading geographiclib-2.1-py3-none-any.whl.metadata (1.6 kB)\n",
      "Downloading geopy-2.4.1-py3-none-any.whl (125 kB)\n",
      "Downloading geographiclib-2.1-py3-none-any.whl (40 kB)\n",
      "Installing collected packages: geographiclib, geopy\n",
      "Successfully installed geographiclib-2.1 geopy-2.4.1\n"
     ]
    }
   ],
   "source": [
    "! pip install geopy"
   ]
  },
  {
   "cell_type": "code",
   "execution_count": 6,
   "id": "92b18d60",
   "metadata": {},
   "outputs": [],
   "source": [
    "from geopy.geocoders import Nominatim\n",
    "\n",
    "geolocator = Nominatim(user_agent=\"my_geocoder_app\")"
   ]
  },
  {
   "cell_type": "code",
   "execution_count": 8,
   "id": "6a3ad314",
   "metadata": {},
   "outputs": [
    {
     "name": "stdout",
     "output_type": "stream",
     "text": [
      "Address: Church Street, Thippasandra, Indiranagar, Bengaluru Central City Corporation, Bengaluru, Bangalore East, Bengaluru Urban, Karnataka, 560075, India\n",
      "Latitude: 12.9746938\n",
      "Longitude: 77.6525547\n",
      "Raw data: {'place_id': 232534017, 'licence': 'Data © OpenStreetMap contributors, ODbL 1.0. http://osm.org/copyright', 'osm_type': 'way', 'osm_id': 98192938, 'lat': '12.9746938', 'lon': '77.6525547', 'class': 'highway', 'type': 'residential', 'place_rank': 26, 'importance': 0.0534042778667887, 'addresstype': 'road', 'name': 'Church Street', 'display_name': 'Church Street, Thippasandra, Indiranagar, Bengaluru Central City Corporation, Bengaluru, Bangalore East, Bengaluru Urban, Karnataka, 560075, India', 'boundingbox': ['12.9733221', '12.9760655', '77.6523100', '77.6527992']}\n"
     ]
    }
   ],
   "source": [
    "from geopy.geocoders import Nominatim\n",
    "\n",
    "geolocator = Nominatim(user_agent=\"my_app\")\n",
    "\n",
    "location = geolocator.geocode(\"Church Street, Bengaluru, India\")\n",
    "\n",
    "if location:\n",
    "    print(f\"Address: {location.address}\")\n",
    "    print(f\"Latitude: {location.latitude}\")\n",
    "    print(f\"Longitude: {location.longitude}\")\n",
    "    # Location object also contains a 'raw' dictionary with more data\n",
    "    print(f\"Raw data: {location.raw}\")"
   ]
  },
  {
   "cell_type": "code",
   "execution_count": 10,
   "id": "391f8836",
   "metadata": {},
   "outputs": [
    {
     "name": "stdout",
     "output_type": "stream",
     "text": [
      "Address: Prime City Apartments, Electronic City, Bengaluru, Bangalore South, Bengaluru Urban, Karnataka, 560100, India\n",
      "Latitude: 12.8487599\n",
      "Longitude: 77.648253\n",
      "Raw data: {'place_id': 239983703, 'licence': 'Data © OpenStreetMap contributors, ODbL 1.0. http://osm.org/copyright', 'osm_type': 'way', 'osm_id': 287685707, 'lat': '12.8487599', 'lon': '77.6482530', 'class': 'landuse', 'type': 'residential', 'place_rank': 22, 'importance': 0.10671499427786676, 'addresstype': 'residential', 'name': 'Prime City Apartments', 'display_name': 'Prime City Apartments, Electronic City, Bengaluru, Bangalore South, Bengaluru Urban, Karnataka, 560100, India', 'boundingbox': ['12.8482126', '12.8493770', '77.6471775', '77.6504105']}\n"
     ]
    }
   ],
   "source": [
    "from geopy.geocoders import Nominatim\n",
    "\n",
    "geolocator = Nominatim(user_agent=\"my_app\")\n",
    "\n",
    "location = geolocator.geocode(\"Electronic City Phase1, Bengaluru, India\")\n",
    "\n",
    "if location:\n",
    "    print(f\"Address: {location.address}\")\n",
    "    print(f\"Latitude: {location.latitude}\")\n",
    "    print(f\"Longitude: {location.longitude}\")\n",
    "    # Location object also contains a 'raw' dictionary with more data\n",
    "    print(f\"Raw data: {location.raw}\")"
   ]
  },
  {
   "cell_type": "code",
   "execution_count": 9,
   "id": "8809f9a6",
   "metadata": {},
   "outputs": [
    {
     "name": "stdout",
     "output_type": "stream",
     "text": [
      "Coordinates: (12.9746938, 77.6525547)\n",
      "Address: Church Street, Thippasandra, Indiranagar, Bengaluru Central City Corporation, Bengaluru, Bangalore East, Bengaluru Urban, Karnataka, 560075, India\n"
     ]
    }
   ],
   "source": [
    "from geopy.geocoders import Nominatim\n",
    "\n",
    "geolocator = Nominatim(user_agent=\"my_app\")\n",
    "coords = (12.9746938, 77.6525547) # Coordinates for London, UK\n",
    "\n",
    "location = geolocator.reverse(coords)\n",
    "\n",
    "if location:\n",
    "    print(f\"Coordinates: {coords}\")\n",
    "    print(f\"Address: {location.address}\")"
   ]
  },
  {
   "cell_type": "code",
   "execution_count": null,
   "id": "659f3f1e",
   "metadata": {},
   "outputs": [],
   "source": []
  },
  {
   "cell_type": "code",
   "execution_count": 11,
   "id": "28812985",
   "metadata": {},
   "outputs": [
    {
     "name": "stdout",
     "output_type": "stream",
     "text": [
      "Distance between NYC and LA: 13.94 km\n",
      "Distance between NYC and LA: 8.66 miles\n"
     ]
    }
   ],
   "source": [
    "from geopy.distance import geodesic\n",
    "\n",
    "# Coordinates for New York City and Los Angeles\n",
    "electronic_coords = (12.8487599, 77.648253)\n",
    "church_st_coords = (12.9746938, 77.6525547)\n",
    "\n",
    "# Calculate the distance\n",
    "distance_in_miles = geodesic(electronic_coords, church_st_coords).miles\n",
    "distance_in_km = geodesic(electronic_coords, church_st_coords).km\n",
    "\n",
    "print(f\"Distance between NYC and LA: {distance_in_km:.2f} km\")\n",
    "print(f\"Distance between NYC and LA: {distance_in_miles:.2f} miles\")"
   ]
  },
  {
   "cell_type": "code",
   "execution_count": 13,
   "id": "67450799",
   "metadata": {},
   "outputs": [
    {
     "name": "stdout",
     "output_type": "stream",
     "text": [
      "Latitude: 48.858093\n",
      "Longitude: 2.294694\n",
      "Tuple format: (48.858093, 2.294694, 0.0)\n"
     ]
    }
   ],
   "source": [
    "from geopy.point import Point\n",
    "\n",
    "# Create a Point object\n",
    "p = Point(48.858093, 2.294694)  # Coordinates for the Eiffel Tower\n",
    "\n",
    "print(f\"Latitude: {p.latitude}\")\n",
    "print(f\"Longitude: {p.longitude}\")\n",
    "\n",
    "coords_tuple = tuple(p)\n",
    "print(f\"Tuple format: {coords_tuple}\")"
   ]
  },
  {
   "cell_type": "code",
   "execution_count": 14,
   "id": "c43ff770",
   "metadata": {},
   "outputs": [
    {
     "name": "stdout",
     "output_type": "stream",
     "text": [
      "Latitude unpacked: 48.858093\n",
      "Longitude unpacked: 2.294694\n",
      "Altitude unpacked: 0.0\n"
     ]
    }
   ],
   "source": [
    "from geopy.point import Point\n",
    "\n",
    "p = Point(48.858093, 2.294694)\n",
    "lat, lon, alt = p # Unpacking the latitude, longitude, and altitude\n",
    "\n",
    "print(f\"Latitude unpacked: {lat}\")\n",
    "print(f\"Longitude unpacked: {lon}\")\n",
    "print(f\"Altitude unpacked: {alt}\")"
   ]
  },
  {
   "cell_type": "code",
   "execution_count": null,
   "id": "f8f8f5ba",
   "metadata": {},
   "outputs": [],
   "source": [
    "from geopy.geocoders import Nominatim\n",
    "from geopy.exc import GeocoderServiceError\n",
    "\n",
    "# Initialize Nominatim API with a more descriptive user agent\n",
    "geolocator = Nominatim(user_agent=\"my_geopy_app\")\n",
    "\n",
    "# Latitude & Longitude input\n",
    "Latitude = \"25.594095\"\n",
    "Longitude = \"85.137566\"\n",
    "\n",
    "try:\n",
    "    location = geolocator.reverse(Latitude + \",\" + Longitude)\n",
    "    address = location.raw['address']\n",
    "\n",
    "    # Traverse the data\n",
    "    city = address.get('city', '')\n",
    "    state = address.get('state', '')\n",
    "    country = address.get('country', '')\n",
    "    code = address.get('country_code')\n",
    "    zipcode = address.get('postcode')\n",
    "\n",
    "    print('City : ', city)\n",
    "    print('State : ', state)\n",
    "    print('Country : ', country)\n",
    "    print('Zip Code : ', zipcode)\n",
    "\n",
    "except GeocoderServiceError as e:\n",
    "    print(\"Error: \", e)"
   ]
  },
  {
   "cell_type": "code",
   "execution_count": null,
   "id": "0e926bfc",
   "metadata": {},
   "outputs": [],
   "source": [
    "\n",
    "# IMPORTANT: Replace with your actual API key from OpenWeatherMap\n",
    "API_KEY = \"YOUR_API_KEY\"\n",
    "BASE_URL = \"https://api.openweathermap.org/data/2.5/weather\"\n",
    "\n",
    "def get_weather_data(city_name):\n",
    "    \"\"\"\n",
    "    Fetches and displays current weather data for a given city from the OpenWeatherMap API.\n",
    "\n",
    "    Args:\n",
    "        city_name (str): The name of the city to get weather data for.\n",
    "    \"\"\"\n",
    "    # Construct the full API URL with query parameters\n",
    "    params = {\n",
    "        'q': city_name,\n",
    "        'appid': API_KEY,\n",
    "        'units': 'metric'  # Use 'metric' for Celsius, 'imperial' for Fahrenheit\n",
    "    }\n",
    "\n",
    "    print(f\"\\nFetching weather data for {city_name}...\")\n",
    "\n",
    "    try:\n",
    "        # Make the GET request to the OpenWeatherMap API\n",
    "        response = requests.get(BASE_URL, params=params)\n",
    "\n",
    "        # Check for a successful response (status code 200)\n",
    "        response.raise_for_status() # This will raise an HTTPError for bad responses (4xx or 5xx)\n",
    "\n",
    "        # Parse the JSON response into a Python dictionary\n",
    "        weather_data = response.json()\n",
    "\n",
    "        # Extract and print the relevant weather information\n",
    "        city = weather_data['name']\n",
    "        country = weather_data['sys']['country']\n",
    "        temperature = weather_data['main']['temp']\n",
    "        description = weather_data['weather'][0]['description']\n",
    "        humidity = weather_data['main']['humidity']\n",
    "        wind_speed = weather_data['wind']['speed']\n",
    "\n",
    "        print(\"-\" * 30)\n",
    "        print(f\"Weather for {city}, {country}\")\n",
    "        print(f\"Temperature: {temperature}°C\")\n",
    "        print(f\"Description: {description.capitalize()}\")\n",
    "        print(f\"Humidity: {humidity}%\")\n",
    "        print(f\"Wind Speed: {wind_speed} m/s\")\n",
    "        print(\"-\" * 30)\n",
    "\n",
    "    except requests.exceptions.HTTPError as http_err:\n",
    "        # Handle HTTP errors, such as 404 Not Found\n",
    "        if response.status_code == 404:\n",
    "            print(f\"Error: City '{city_name}' not found. Please check the spelling.\")\n",
    "        else:\n",
    "            print(f\"HTTP error occurred: {http_err}\")\n",
    "    except requests.exceptions.ConnectionError as conn_err:\n",
    "        # Handle network-related errors\n",
    "        print(f\"Connection error occurred: {conn_err}\")\n",
    "    except requests.exceptions.Timeout as timeout_err:\n",
    "        # Handle timeout errors\n",
    "        print(f\"Timeout error occurred: {timeout_err}\")\n",
    "    except requests.exceptions.RequestException as req_err:\n",
    "        # Handle any other request-related errors\n",
    "        print(f\"An error occurred: {req_err}\")\n",
    "    except KeyError as key_err:\n",
    "        # Handle cases where the API response structure is unexpected\n",
    "        print(f\"Data key not found in API response: {key_err}\")\n",
    "\n",
    "# Main part of the script to run the application\n",
    "if __name__ == \"__main__\":\n",
    "    while True:\n",
    "        city_input = input(\"Enter a city name (or 'quit' to exit): \")\n",
    "        if city_input.lower() == 'quit':\n",
    "            break\n",
    "        \n",
    "        if city_input:\n",
    "            get_weather_data(city_input)\n",
    "        else:\n",
    "            print(\"Please enter a valid city name.\")\n",
    "\n"
   ]
  },
  {
   "cell_type": "code",
   "execution_count": null,
   "id": "676e6910",
   "metadata": {},
   "outputs": [],
   "source": []
  }
 ],
 "metadata": {
  "kernelspec": {
   "display_name": "base",
   "language": "python",
   "name": "python3"
  },
  "language_info": {
   "codemirror_mode": {
    "name": "ipython",
    "version": 3
   },
   "file_extension": ".py",
   "mimetype": "text/x-python",
   "name": "python",
   "nbconvert_exporter": "python",
   "pygments_lexer": "ipython3",
   "version": "3.12.7"
  }
 },
 "nbformat": 4,
 "nbformat_minor": 5
}
